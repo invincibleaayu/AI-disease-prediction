{
 "cells": [
  {
   "cell_type": "code",
   "execution_count": 1,
   "metadata": {},
   "outputs": [],
   "source": [
    "import pandas as pd\n",
    "import matplotlib.pyplot as plt\n",
    "import numpy as np\n",
    "\n",
    "\n",
    "def get_review(dis):\n",
    "    dset=np.array([])\n",
    "    for i in range(415):\n",
    "        rev = [v for v in dis[i] if str(v) != 'nan']\n",
    "        string = ''.join(rev)\n",
    "        dset= np.append(dset,string)\n",
    "    return dset\n",
    "\n",
    "data = pd.read_csv('raw_data.csv',delimiter=',')\n",
    "dis = data.iloc[:,0].values\n",
    "sym = data.iloc[:,1].values    \n",
    "res=get_review(dis)\n",
    "val1 = pd.DataFrame(res,columns=['review'])\n",
    "val2 = pd.DataFrame(sym,columns=['symptom'])\n",
    "    \n",
    "result = pd.concat([val2,val1],axis=1)\n",
    "    \n",
    "result.to_csv('clean_data2.csv')"
   ]
  },
  {
   "cell_type": "code",
   "execution_count": null,
   "metadata": {},
   "outputs": [],
   "source": []
  }
 ],
 "metadata": {
  "kernelspec": {
   "display_name": "Python 3",
   "language": "python",
   "name": "python3"
  },
  "language_info": {
   "codemirror_mode": {
    "name": "ipython",
    "version": 3
   },
   "file_extension": ".py",
   "mimetype": "text/x-python",
   "name": "python",
   "nbconvert_exporter": "python",
   "pygments_lexer": "ipython3",
   "version": "3.8.6"
  }
 },
 "nbformat": 4,
 "nbformat_minor": 4
}
